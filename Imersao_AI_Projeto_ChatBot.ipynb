{
  "nbformat": 4,
  "nbformat_minor": 0,
  "metadata": {
    "colab": {
      "provenance": [],
      "authorship_tag": "ABX9TyPK4SmBMqtfoIIMybfRA6cR",
      "include_colab_link": true
    },
    "kernelspec": {
      "name": "python3",
      "display_name": "Python 3"
    },
    "language_info": {
      "name": "python"
    }
  },
  "cells": [
    {
      "cell_type": "markdown",
      "metadata": {
        "id": "view-in-github",
        "colab_type": "text"
      },
      "source": [
        "<a href=\"https://colab.research.google.com/github/zeroberto2024/Imersao_AI_Projeto_ChatBot/blob/main/Imersao_AI_Projeto_ChatBot.ipynb\" target=\"_parent\"><img src=\"https://colab.research.google.com/assets/colab-badge.svg\" alt=\"Open In Colab\"/></a>"
      ]
    },
    {
      "cell_type": "markdown",
      "source": [
        "Início da aplicação"
      ],
      "metadata": {
        "id": "a8r0xO53rjUJ"
      }
    },
    {
      "cell_type": "code",
      "source": [
        "# prompt: lpip install -q  google-generativeai\n",
        "\n",
        "!pip install -q google-generativeai\n"
      ],
      "metadata": {
        "id": "YD1jC4Rbrj0Q"
      },
      "execution_count": 16,
      "outputs": []
    },
    {
      "cell_type": "markdown",
      "source": [
        "Rotina para utilização da API_key de forma protegida(sigilosa)."
      ],
      "metadata": {
        "id": "0QNicMc1uJRW"
      }
    },
    {
      "cell_type": "code",
      "source": [
        "from re import S\n",
        "import google.generativeai as genai\n",
        "from google.colab import userdata\n",
        "api_key = userdata.get('SECRET_KEY')\n",
        "genai.configure(api_key=api_key)\n"
      ],
      "metadata": {
        "id": "UXbTDdsgzjKW"
      },
      "execution_count": 27,
      "outputs": []
    },
    {
      "cell_type": "markdown",
      "source": [],
      "metadata": {
        "id": "npz6YM_gyYgu"
      }
    },
    {
      "cell_type": "code",
      "source": [
        "for m in genai.list_models():\n",
        "  if 'generateContent' in m.supported_generation_methods:\n",
        "    print(m.name)\n"
      ],
      "metadata": {
        "colab": {
          "base_uri": "https://localhost:8080/",
          "height": 139
        },
        "id": "eMlBBaDf1-aW",
        "outputId": "1663b7fd-dc6d-4604-8364-f1963a466158"
      },
      "execution_count": 28,
      "outputs": [
        {
          "output_type": "stream",
          "name": "stdout",
          "text": [
            "models/gemini-1.0-pro\n",
            "models/gemini-1.0-pro-001\n",
            "models/gemini-1.0-pro-latest\n",
            "models/gemini-1.0-pro-vision-latest\n",
            "models/gemini-1.5-pro-latest\n",
            "models/gemini-pro\n",
            "models/gemini-pro-vision\n"
          ]
        }
      ]
    },
    {
      "cell_type": "code",
      "source": [
        "generation_config={\n",
        "    \"candidate_count\":1,\n",
        "    \"temperature\":0.5,\n",
        "}"
      ],
      "metadata": {
        "id": "g8pO3HML44dz"
      },
      "execution_count": 10,
      "outputs": []
    },
    {
      "cell_type": "code",
      "source": [
        "safety_settings={\n",
        "    \"Harassment\": \"BLOCK_FEW\",\n",
        "    \"Hate\": \"BLOCK_FEW\",\n",
        "    \"Sexual\": \"BLOCK_FEW\",\n",
        "    \"Dangerous\": \"BLOCK_FEW\",\n",
        "}"
      ],
      "metadata": {
        "id": "GBd5oPGs50VR"
      },
      "execution_count": 11,
      "outputs": []
    },
    {
      "cell_type": "markdown",
      "source": [
        "Inicializando o modelo"
      ],
      "metadata": {
        "id": "NaJxEnHS75um"
      }
    },
    {
      "cell_type": "code",
      "source": [
        "model = genai.GenerativeModel(model_name=\"gemini-1.0-pro\", generation_config=generation_config, safety_settings=safety_settings)"
      ],
      "metadata": {
        "id": "Bb49PpFJ_bEm"
      },
      "execution_count": 29,
      "outputs": []
    },
    {
      "cell_type": "code",
      "source": [
        "chat=model.start_chat(history=[])"
      ],
      "metadata": {
        "id": "cINan4K-DMCD"
      },
      "execution_count": 44,
      "outputs": []
    },
    {
      "cell_type": "code",
      "source": [
        "prompt=input(\"Esperando prompt: \")\n",
        "while prompt != \"fim\":\n",
        "  response = chat.send_message(prompt)\n",
        "  print(\"Resposta: \", response.text)\n",
        "  prompt=input(\"Esperando prompt: \")"
      ],
      "metadata": {
        "id": "zTAv2JvUDyBs",
        "colab": {
          "base_uri": "https://localhost:8080/",
          "height": 1000
        },
        "outputId": "8214624b-1cf0-4c58-b8e5-09247f2ef95c"
      },
      "execution_count": 45,
      "outputs": [
        {
          "name": "stdout",
          "output_type": "stream",
          "text": [
            "Esperando prompt: O que é inteligência artificial?\n",
            "Resposta:  Inteligência Artificial (IA) é um campo da ciência da computação que se concentra no desenvolvimento de máquinas que podem executar tarefas que normalmente requerem inteligência humana, como:\n",
            "\n",
            "* **Aprendizagem:** Capacidade de aprender com dados e melhorar o desempenho ao longo do tempo.\n",
            "* **Raciocínio:** Capacidade de resolver problemas, tomar decisões e tirar conclusões.\n",
            "* **Resolução de problemas:** Capacidade de identificar e resolver problemas complexos.\n",
            "* **Processamento de linguagem natural:** Capacidade de entender e gerar linguagem humana.\n",
            "* **Reconhecimento de padrões:** Capacidade de identificar padrões em dados e fazer previsões.\n",
            "* **Tomada de decisão:** Capacidade de analisar informações e tomar decisões informadas.\n",
            "* **Automação:** Capacidade de executar tarefas repetitivas ou complexas sem intervenção humana.\n",
            "\n",
            "A IA é usada em uma ampla gama de aplicações, incluindo:\n",
            "\n",
            "* Assistentes virtuais e chatbots\n",
            "* Carros autônomos\n",
            "* Diagnóstico médico\n",
            "* Processamento de imagem e reconhecimento facial\n",
            "* Recomendações personalizadas\n",
            "* Análise de dados e previsão\n",
            "* Sistemas de segurança e vigilância\n",
            "* Jogos e entretenimento\n",
            "Esperando prompt: Como a comunidade acadêmica das universidades públicas brasileiras vem tratando os avanços obtidos nessa área?\n",
            "Resposta:  A comunidade acadêmica das universidades públicas brasileiras tem se envolvido ativamente nos avanços da Inteligência Artificial (IA), por meio de pesquisas, ensino e extensão.\n",
            "\n",
            "**Pesquisa:**\n",
            "\n",
            "* As universidades brasileiras têm investido em pesquisa de IA, com foco em áreas como aprendizado de máquina, processamento de linguagem natural, visão computacional e robótica.\n",
            "* Pesquisadores brasileiros têm publicado artigos em periódicos científicos de renome e apresentado seus trabalhos em conferências internacionais.\n",
            "* O Brasil tem participado de projetos de pesquisa colaborativos com instituições internacionais, como o Instituto Max Planck e a Universidade de Stanford.\n",
            "\n",
            "**Ensino:**\n",
            "\n",
            "* Muitas universidades públicas brasileiras oferecem cursos de graduação e pós-graduação em IA.\n",
            "* Os currículos desses cursos abrangem tópicos fundamentais de IA, como aprendizado de máquina, processamento de linguagem natural e visão computacional.\n",
            "* As universidades também oferecem cursos de extensão e workshops para profissionais que desejam se atualizar na área.\n",
            "\n",
            "**Extensão:**\n",
            "\n",
            "* As universidades públicas brasileiras têm promovido eventos de divulgação científica sobre IA, como palestras, workshops e hackathons.\n",
            "* Elas também têm colaborado com empresas e indústrias para desenvolver e implementar soluções de IA.\n",
            "* Por exemplo, a Universidade Federal de Minas Gerais (UFMG) criou o Centro de Inteligência Artificial (CINTIA), que oferece serviços de consultoria e desenvolvimento de soluções de IA para empresas.\n",
            "\n",
            "**Desafios e oportunidades:**\n",
            "\n",
            "Apesar dos avanços, a comunidade acadêmica brasileira enfrenta alguns desafios, como:\n",
            "\n",
            "* Financiamento limitado para pesquisa\n",
            "* Falta de infraestrutura computacional adequada\n",
            "* Êxodo de pesquisadores para universidades estrangeiras\n",
            "\n",
            "No entanto, também existem oportunidades significativas para a comunidade acadêmica brasileira na área de IA:\n",
            "\n",
            "* Crescente demanda por profissionais qualificados em IA\n",
            "* Apoio governamental a projetos de pesquisa e inovação\n",
            "* Colaborações com empresas e indústrias\n",
            "\n",
            "Em resumo, a comunidade acadêmica das universidades públicas brasileiras está se envolvendo ativamente nos avanços da IA, por meio de pesquisa, ensino e extensão. Embora existam desafios, também há oportunidades significativas para o Brasil se tornar um player importante no cenário global de IA.\n",
            "Esperando prompt: Existe algum receio por parte dos professores com relação ao processo de ensino e pesquisa e os aspectos de propriedade intelectual decorrentes?\n",
            "Resposta:  Sim, existe algum receio por parte dos professores com relação ao processo de ensino e pesquisa e os aspectos de propriedade intelectual decorrentes dos avanços da Inteligência Artificial (IA).\n",
            "\n",
            "**Ensino:**\n",
            "\n",
            "* **Substituição de professores:** Alguns professores temem que a IA possa substituí-los em tarefas como dar aulas, avaliar trabalhos e fornecer feedback.\n",
            "* **Preocupações éticas:** Os professores também estão preocupados com o uso da IA em salas de aula, como o uso de chatbots para interagir com os alunos ou de software de reconhecimento facial para monitorar a atenção dos alunos.\n",
            "\n",
            "**Pesquisa:**\n",
            "\n",
            "* **Propriedade intelectual:** Os professores estão preocupados com quem detém os direitos de propriedade intelectual sobre pesquisas e descobertas feitas usando IA. Isso é especialmente relevante quando a IA é usada para gerar novos dados, algoritmos ou insights.\n",
            "* **Ética na pesquisa:** Os professores também estão preocupados com as implicações éticas do uso da IA na pesquisa, como o uso de dados pessoais sem consentimento ou o desenvolvimento de tecnologias que podem ser usadas para fins maliciosos.\n",
            "\n",
            "**Aspectos gerais:**\n",
            "\n",
            "* **Perda de empregos:** Alguns professores temem que os avanços da IA possam levar à perda de empregos, tanto no ensino quanto na pesquisa.\n",
            "* **Mudanças nas qualificações:** Os professores também estão preocupados com a necessidade de se manterem atualizados com os rápidos avanços da IA e de desenvolver novas habilidades para continuar relevantes em suas áreas.\n",
            "\n",
            "**Medidas para mitigar os receios:**\n",
            "\n",
            "* **Diálogo aberto:** É importante que as universidades promovam um diálogo aberto entre professores, pesquisadores e administradores sobre os desafios e oportunidades apresentados pela IA.\n",
            "* **Políticas claras:** As universidades devem desenvolver políticas claras sobre o uso da IA no ensino e na pesquisa, incluindo questões de propriedade intelectual e ética.\n",
            "* **Formação e desenvolvimento:** As universidades devem fornecer formação e desenvolvimento para professores e pesquisadores sobre os aspectos éticos e legais da IA.\n",
            "* **Colaboração:** As universidades devem colaborar com empresas e indústrias para garantir que os professores e pesquisadores tenham acesso a infraestrutura e recursos adequados para conduzir pesquisas de ponta em IA.\n",
            "\n",
            "Ao abordar esses receios e tomar medidas para mitigá-los, as universidades podem garantir que a IA seja usada de forma ética e responsável no ensino e na pesquisa, beneficiando professores, alunos e a sociedade como um todo.\n",
            "Esperando prompt: Quais áreas do conhecimento humano estão mais avançadas na utilização das ferramentas de IA?\n",
            "Resposta:  As áreas do conhecimento humano que estão mais avançadas na utilização das ferramentas de Inteligência Artificial (IA) incluem:\n",
            "\n",
            "* **Ciência da computação:** A IA é o próprio fundamento da ciência da computação, e os pesquisadores nessa área estão constantemente desenvolvendo novas técnicas e algoritmos de IA.\n",
            "* **Aprendizado de máquina:** Este subcampo da IA se concentra no desenvolvimento de algoritmos que podem aprender com dados e melhorar seu desempenho ao longo do tempo. O aprendizado de máquina é usado em uma ampla gama de aplicações, incluindo reconhecimento de imagem, processamento de linguagem natural e carros autônomos.\n",
            "* **Visão computacional:** Este subcampo da IA se concentra no desenvolvimento de algoritmos que podem analisar e interpretar imagens e vídeos. A visão computacional é usada em aplicações como reconhecimento facial, análise médica e veículos autônomos.\n",
            "* **Processamento de linguagem natural:** Este subcampo da IA se concentra no desenvolvimento de algoritmos que podem entender e gerar linguagem humana. O processamento de linguagem natural é usado em aplicações como chatbots, tradução automática e análise de sentimento.\n",
            "* **Robótica:** A IA desempenha um papel fundamental na robótica, permitindo que os robôs percebam seu ambiente, tomem decisões e interajam com os humanos.\n",
            "* **Medicina:** A IA está sendo usada para desenvolver novas drogas, diagnosticar doenças e personalizar tratamentos. Por exemplo, os algoritmos de IA podem analisar imagens médicas para identificar padrões que são invisíveis ao olho humano.\n",
            "* **Finanças:** A IA está sendo usada para detectar fraudes, gerenciar riscos e fazer previsões de mercado. Por exemplo, os algoritmos de IA podem analisar grandes conjuntos de dados financeiros para identificar tendências e padrões.\n",
            "* **Transporte:** A IA está sendo usada para desenvolver veículos autônomos, otimizar rotas de transporte e melhorar a segurança no trânsito.\n",
            "* **Entretenimento:** A IA está sendo usada para criar jogos mais envolventes, gerar música e arte e personalizar recomendações de conteúdo.\n",
            "\n",
            "Essas são apenas algumas das áreas do conhecimento humano que estão mais avançadas na utilização das ferramentas de IA. À medida que a IA continua a evoluir, espera-se que ela tenha um impacto ainda maior em todas as áreas da vida humana.\n",
            "Esperando prompt: Em termos de países, quais são os dez primeiros nessa corrida tecnológica?\n",
            "Resposta:  Os dez primeiros países na corrida tecnológica de Inteligência Artificial (IA), de acordo com o Índice de Desenvolvimento de IA 2023 da Universidade de Stanford, são:\n",
            "\n",
            "1. Estados Unidos\n",
            "2. China\n",
            "3. Reino Unido\n",
            "4. Alemanha\n",
            "5. Canadá\n",
            "6. França\n",
            "7. Japão\n",
            "8. Índia\n",
            "9. Austrália\n",
            "10. Suíça\n",
            "\n",
            "Esses países estão na vanguarda do desenvolvimento e implementação de IA, investindo pesadamente em pesquisa, educação e infraestrutura de IA. Eles também têm um ecossistema forte de startups e empresas de IA, bem como políticas governamentais de apoio.\n",
            "\n",
            "Outros países que estão fazendo progressos significativos em IA incluem:\n",
            "\n",
            "* Coreia do Sul\n",
            "* Países Baixos\n",
            "* Suécia\n",
            "* Israel\n",
            "* Singapura\n",
            "\n",
            "Esses países estão investindo em IA e desenvolvendo seus próprios ecossistemas de IA, e espera-se que desempenhem um papel cada vez mais importante na corrida tecnológica de IA nos próximos anos.\n",
            "Esperando prompt: Quais deveriam ser as cinco principais medidas governamentais para incrementar nosso desenvolvimento nessa área no decorrer dos próximos dez anos?\n",
            "Resposta:  **Cinco principais medidas governamentais para incrementar o desenvolvimento de Inteligência Artificial (IA) no Brasil nos próximos dez anos:**\n",
            "\n",
            "1. **Aumentar o financiamento para pesquisa e desenvolvimento (P&D) em IA:** O governo deve aumentar significativamente o financiamento para pesquisa básica e aplicada em IA, por meio de agências de fomento como a FAPESP e o CNPq. Isso permitirá que pesquisadores brasileiros desenvolvam novas tecnologias de IA e soluções inovadoras.\n",
            "\n",
            "2. **Investir em infraestrutura de IA:** O governo deve investir em infraestrutura de IA, como centros de dados, supercomputadores e redes de alta velocidade. Isso fornecerá aos pesquisadores e empresas os recursos computacionais necessários para desenvolver e implantar aplicativos de IA.\n",
            "\n",
            "3. **Desenvolver e implementar uma estratégia nacional de IA:** O governo deve desenvolver e implementar uma estratégia nacional de IA que defina metas claras, prioridades de pesquisa e mecanismos de colaboração entre academia, indústria e governo. Isso ajudará a coordenar os esforços de IA no país e garantir que os recursos sejam alocados de forma eficaz.\n",
            "\n",
            "4. **Promover a educação e formação em IA:** O governo deve investir em educação e formação em IA em todos os níveis, desde o ensino fundamental até a pós-graduação. Isso ajudará a criar uma força de trabalho qualificada em IA e garantir que o Brasil tenha o talento necessário para liderar a corrida tecnológica de IA.\n",
            "\n",
            "5. **Estabelecer um quadro regulatório para IA:** O governo deve estabelecer um quadro regulatório claro e ético para IA, que aborde questões como privacidade de dados, segurança e responsabilidade. Isso ajudará a promover a confiança na IA e garantir que ela seja usada de forma responsável e benéfica para a sociedade.\n",
            "\n",
            "Além dessas medidas, o governo também deve:\n",
            "\n",
            "* Colaborar com empresas e indústrias para promover a adoção de IA em todos os setores da economia.\n",
            "* Apoiar startups e pequenas empresas que estão desenvolvendo tecnologias e soluções de IA inovadoras.\n",
            "* Promover a cooperação internacional em IA, por meio de parcerias com outros países e organizações internacionais.\n",
            "\n",
            "Ao implementar essas medidas, o governo brasileiro pode ajudar a impulsionar o desenvolvimento de IA no país e garantir que o Brasil se torne um player importante na corrida tecnológica de IA global.\n",
            "Esperando prompt: Em termos de investimentos governamentais, qual o percentual do PIB investido pelos dez países melhor posicionados ao longo dos últimos cinco anos? \n",
            "Resposta:  **Percentual do PIB investido em pesquisa e desenvolvimento (P&D) pelos dez países melhor posicionados em IA nos últimos cinco anos:**\n",
            "\n",
            "| País | Percentual do PIB investido em P&D |\n",
            "|---|---|\n",
            "| Israel | 5,41% |\n",
            "| Coreia do Sul | 4,83% |\n",
            "| Japão | 3,29% |\n",
            "| Estados Unidos | 3,09% |\n",
            "| Alemanha | 3,06% |\n",
            "| Suíça | 3,03% |\n",
            "| Áustria | 3,01% |\n",
            "| Dinamarca | 2,97% |\n",
            "| Suécia | 2,96% |\n",
            "| Finlândia | 2,93% |\n",
            "\n",
            "Fonte: Banco Mundial, dados de 2019 a 2023\n",
            "\n",
            "É importante notar que esses dados são para P&D em geral, e não especificamente para IA. No entanto, a IA é um campo de pesquisa prioritário para todos esses países, e eles têm investido pesadamente em seu desenvolvimento.\n",
            "\n",
            "Por exemplo, os Estados Unidos lançaram a Iniciativa Nacional de Inteligência Artificial em 2019, que visa investir US$ 1 bilhão em pesquisa de IA nos próximos cinco anos. A China também anunciou planos para investir US$ 150 bilhões em IA até 2030.\n",
            "\n",
            "Esses investimentos significativos em P&D estão ajudando esses países a manter sua liderança na corrida tecnológica de IA.\n",
            "Esperando prompt: Qual é a perspectiva brasileira nesse segmento considerando nossa política atual de investimentos?\n",
            "Resposta:  A perspectiva brasileira no segmento de Inteligência Artificial (IA) é **mista**, considerando a política atual de investimentos.\n",
            "\n",
            "**Pontos positivos:**\n",
            "\n",
            "* O Brasil tem uma comunidade acadêmica forte em IA, com pesquisadores de renome internacional em universidades como USP, Unicamp e UFMG.\n",
            "* O governo brasileiro lançou recentemente a Estratégia Nacional de Inteligência Artificial, que visa impulsionar o desenvolvimento e a adoção de IA no país.\n",
            "* Há um crescente número de startups e empresas brasileiras investindo em IA.\n",
            "\n",
            "**Pontos negativos:**\n",
            "\n",
            "* O Brasil investe muito pouco em P&D em comparação com outros países. Em 2023, o Brasil investiu apenas 1,36% do PIB em P&D, bem abaixo da média da OCDE de 2,5%.\n",
            "* O financiamento governamental para pesquisa em IA é limitado e instável.\n",
            "* A infraestrutura de IA do Brasil é deficiente, com falta de centros de dados e supercomputadores de última geração.\n",
            "* O Brasil enfrenta uma escassez de profissionais qualificados em IA.\n",
            "\n",
            "A política atual de investimentos do governo brasileiro não é suficiente para impulsionar o desenvolvimento de IA no país. O governo precisa aumentar significativamente o financiamento para P&D em IA, investir em infraestrutura de IA e promover a educação e formação em IA.\n",
            "\n",
            "Caso contrário, o Brasil corre o risco de ficar para trás na corrida tecnológica de IA global.\n",
            "\n",
            "**Perspectivas:**\n",
            "\n",
            "Se o governo brasileiro implementar as medidas necessárias para impulsionar o desenvolvimento de IA, o país tem o potencial de se tornar um player importante no cenário global de IA. O Brasil tem uma base sólida de pesquisa em IA, um ecossistema empresarial crescente e uma demanda crescente por soluções de IA em todos os setores da economia.\n",
            "\n",
            "No entanto, é importante que o governo aja com urgência para abordar os desafios enfrentados pelo Brasil no segmento de IA. Caso contrário, o país corre o risco de perder a corrida tecnológica de IA e ficar para trás em relação a outros países.\n",
            "Esperando prompt: fim\n"
          ]
        }
      ]
    },
    {
      "cell_type": "markdown",
      "source": [
        "Melhorando a visualização do conteúdo do Chat."
      ],
      "metadata": {
        "id": "gJ5PhAr_1VG1"
      }
    },
    {
      "cell_type": "code",
      "source": [
        "import textwrap\n",
        "\n",
        "import google.generativeai as genai\n",
        "\n",
        "from IPython.display import display\n",
        "from IPython.display import Markdown\n",
        "\n",
        "def to_markdown(text):\n",
        "  text = text.replace('•', ' *')\n",
        "  return Markdown(textwrap.indent(text, '> ', predicate=lambda _: True))"
      ],
      "metadata": {
        "id": "qpEq5MUd1PN3"
      },
      "execution_count": 46,
      "outputs": []
    },
    {
      "cell_type": "markdown",
      "source": [
        "Imprimindo o histório de informações trocadas no Chat."
      ],
      "metadata": {
        "id": "J1yZaKAu2NjE"
      }
    },
    {
      "cell_type": "code",
      "source": [
        "display(to_markdown('**Resultados obtidos na consulta ao Modelo**'))\n",
        "\n",
        "for message in chat.history:\n",
        "  display(to_markdown(f'**{message.role}**: {message.parts[0].text}'))"
      ],
      "metadata": {
        "colab": {
          "base_uri": "https://localhost:8080/",
          "height": 1000
        },
        "id": "duMvUAlk3RA-",
        "outputId": "b797e034-c16d-4902-a607-d0c03e1bf022"
      },
      "execution_count": 47,
      "outputs": [
        {
          "output_type": "display_data",
          "data": {
            "text/plain": [
              "<IPython.core.display.Markdown object>"
            ],
            "text/markdown": "> **Resultados obtidos na consulta ao Modelo**"
          },
          "metadata": {}
        },
        {
          "output_type": "display_data",
          "data": {
            "text/plain": [
              "<IPython.core.display.Markdown object>"
            ],
            "text/markdown": "> **user**: O que é inteligência artificial?"
          },
          "metadata": {}
        },
        {
          "output_type": "display_data",
          "data": {
            "text/plain": [
              "<IPython.core.display.Markdown object>"
            ],
            "text/markdown": "> **model**: Inteligência Artificial (IA) é um campo da ciência da computação que se concentra no desenvolvimento de máquinas que podem executar tarefas que normalmente requerem inteligência humana, como:\n> \n> * **Aprendizagem:** Capacidade de aprender com dados e melhorar o desempenho ao longo do tempo.\n> * **Raciocínio:** Capacidade de resolver problemas, tomar decisões e tirar conclusões.\n> * **Resolução de problemas:** Capacidade de identificar e resolver problemas complexos.\n> * **Processamento de linguagem natural:** Capacidade de entender e gerar linguagem humana.\n> * **Reconhecimento de padrões:** Capacidade de identificar padrões em dados e fazer previsões.\n> * **Tomada de decisão:** Capacidade de analisar informações e tomar decisões informadas.\n> * **Automação:** Capacidade de executar tarefas repetitivas ou complexas sem intervenção humana.\n> \n> A IA é usada em uma ampla gama de aplicações, incluindo:\n> \n> * Assistentes virtuais e chatbots\n> * Carros autônomos\n> * Diagnóstico médico\n> * Processamento de imagem e reconhecimento facial\n> * Recomendações personalizadas\n> * Análise de dados e previsão\n> * Sistemas de segurança e vigilância\n> * Jogos e entretenimento"
          },
          "metadata": {}
        },
        {
          "output_type": "display_data",
          "data": {
            "text/plain": [
              "<IPython.core.display.Markdown object>"
            ],
            "text/markdown": "> **user**: Como a comunidade acadêmica das universidades públicas brasileiras vem tratando os avanços obtidos nessa área?"
          },
          "metadata": {}
        },
        {
          "output_type": "display_data",
          "data": {
            "text/plain": [
              "<IPython.core.display.Markdown object>"
            ],
            "text/markdown": "> **model**: A comunidade acadêmica das universidades públicas brasileiras tem se envolvido ativamente nos avanços da Inteligência Artificial (IA), por meio de pesquisas, ensino e extensão.\n> \n> **Pesquisa:**\n> \n> * As universidades brasileiras têm investido em pesquisa de IA, com foco em áreas como aprendizado de máquina, processamento de linguagem natural, visão computacional e robótica.\n> * Pesquisadores brasileiros têm publicado artigos em periódicos científicos de renome e apresentado seus trabalhos em conferências internacionais.\n> * O Brasil tem participado de projetos de pesquisa colaborativos com instituições internacionais, como o Instituto Max Planck e a Universidade de Stanford.\n> \n> **Ensino:**\n> \n> * Muitas universidades públicas brasileiras oferecem cursos de graduação e pós-graduação em IA.\n> * Os currículos desses cursos abrangem tópicos fundamentais de IA, como aprendizado de máquina, processamento de linguagem natural e visão computacional.\n> * As universidades também oferecem cursos de extensão e workshops para profissionais que desejam se atualizar na área.\n> \n> **Extensão:**\n> \n> * As universidades públicas brasileiras têm promovido eventos de divulgação científica sobre IA, como palestras, workshops e hackathons.\n> * Elas também têm colaborado com empresas e indústrias para desenvolver e implementar soluções de IA.\n> * Por exemplo, a Universidade Federal de Minas Gerais (UFMG) criou o Centro de Inteligência Artificial (CINTIA), que oferece serviços de consultoria e desenvolvimento de soluções de IA para empresas.\n> \n> **Desafios e oportunidades:**\n> \n> Apesar dos avanços, a comunidade acadêmica brasileira enfrenta alguns desafios, como:\n> \n> * Financiamento limitado para pesquisa\n> * Falta de infraestrutura computacional adequada\n> * Êxodo de pesquisadores para universidades estrangeiras\n> \n> No entanto, também existem oportunidades significativas para a comunidade acadêmica brasileira na área de IA:\n> \n> * Crescente demanda por profissionais qualificados em IA\n> * Apoio governamental a projetos de pesquisa e inovação\n> * Colaborações com empresas e indústrias\n> \n> Em resumo, a comunidade acadêmica das universidades públicas brasileiras está se envolvendo ativamente nos avanços da IA, por meio de pesquisa, ensino e extensão. Embora existam desafios, também há oportunidades significativas para o Brasil se tornar um player importante no cenário global de IA."
          },
          "metadata": {}
        },
        {
          "output_type": "display_data",
          "data": {
            "text/plain": [
              "<IPython.core.display.Markdown object>"
            ],
            "text/markdown": "> **user**: Existe algum receio por parte dos professores com relação ao processo de ensino e pesquisa e os aspectos de propriedade intelectual decorrentes?"
          },
          "metadata": {}
        },
        {
          "output_type": "display_data",
          "data": {
            "text/plain": [
              "<IPython.core.display.Markdown object>"
            ],
            "text/markdown": "> **model**: Sim, existe algum receio por parte dos professores com relação ao processo de ensino e pesquisa e os aspectos de propriedade intelectual decorrentes dos avanços da Inteligência Artificial (IA).\n> \n> **Ensino:**\n> \n> * **Substituição de professores:** Alguns professores temem que a IA possa substituí-los em tarefas como dar aulas, avaliar trabalhos e fornecer feedback.\n> * **Preocupações éticas:** Os professores também estão preocupados com o uso da IA em salas de aula, como o uso de chatbots para interagir com os alunos ou de software de reconhecimento facial para monitorar a atenção dos alunos.\n> \n> **Pesquisa:**\n> \n> * **Propriedade intelectual:** Os professores estão preocupados com quem detém os direitos de propriedade intelectual sobre pesquisas e descobertas feitas usando IA. Isso é especialmente relevante quando a IA é usada para gerar novos dados, algoritmos ou insights.\n> * **Ética na pesquisa:** Os professores também estão preocupados com as implicações éticas do uso da IA na pesquisa, como o uso de dados pessoais sem consentimento ou o desenvolvimento de tecnologias que podem ser usadas para fins maliciosos.\n> \n> **Aspectos gerais:**\n> \n> * **Perda de empregos:** Alguns professores temem que os avanços da IA possam levar à perda de empregos, tanto no ensino quanto na pesquisa.\n> * **Mudanças nas qualificações:** Os professores também estão preocupados com a necessidade de se manterem atualizados com os rápidos avanços da IA e de desenvolver novas habilidades para continuar relevantes em suas áreas.\n> \n> **Medidas para mitigar os receios:**\n> \n> * **Diálogo aberto:** É importante que as universidades promovam um diálogo aberto entre professores, pesquisadores e administradores sobre os desafios e oportunidades apresentados pela IA.\n> * **Políticas claras:** As universidades devem desenvolver políticas claras sobre o uso da IA no ensino e na pesquisa, incluindo questões de propriedade intelectual e ética.\n> * **Formação e desenvolvimento:** As universidades devem fornecer formação e desenvolvimento para professores e pesquisadores sobre os aspectos éticos e legais da IA.\n> * **Colaboração:** As universidades devem colaborar com empresas e indústrias para garantir que os professores e pesquisadores tenham acesso a infraestrutura e recursos adequados para conduzir pesquisas de ponta em IA.\n> \n> Ao abordar esses receios e tomar medidas para mitigá-los, as universidades podem garantir que a IA seja usada de forma ética e responsável no ensino e na pesquisa, beneficiando professores, alunos e a sociedade como um todo."
          },
          "metadata": {}
        },
        {
          "output_type": "display_data",
          "data": {
            "text/plain": [
              "<IPython.core.display.Markdown object>"
            ],
            "text/markdown": "> **user**: Quais áreas do conhecimento humano estão mais avançadas na utilização das ferramentas de IA?"
          },
          "metadata": {}
        },
        {
          "output_type": "display_data",
          "data": {
            "text/plain": [
              "<IPython.core.display.Markdown object>"
            ],
            "text/markdown": "> **model**: As áreas do conhecimento humano que estão mais avançadas na utilização das ferramentas de Inteligência Artificial (IA) incluem:\n> \n> * **Ciência da computação:** A IA é o próprio fundamento da ciência da computação, e os pesquisadores nessa área estão constantemente desenvolvendo novas técnicas e algoritmos de IA.\n> * **Aprendizado de máquina:** Este subcampo da IA se concentra no desenvolvimento de algoritmos que podem aprender com dados e melhorar seu desempenho ao longo do tempo. O aprendizado de máquina é usado em uma ampla gama de aplicações, incluindo reconhecimento de imagem, processamento de linguagem natural e carros autônomos.\n> * **Visão computacional:** Este subcampo da IA se concentra no desenvolvimento de algoritmos que podem analisar e interpretar imagens e vídeos. A visão computacional é usada em aplicações como reconhecimento facial, análise médica e veículos autônomos.\n> * **Processamento de linguagem natural:** Este subcampo da IA se concentra no desenvolvimento de algoritmos que podem entender e gerar linguagem humana. O processamento de linguagem natural é usado em aplicações como chatbots, tradução automática e análise de sentimento.\n> * **Robótica:** A IA desempenha um papel fundamental na robótica, permitindo que os robôs percebam seu ambiente, tomem decisões e interajam com os humanos.\n> * **Medicina:** A IA está sendo usada para desenvolver novas drogas, diagnosticar doenças e personalizar tratamentos. Por exemplo, os algoritmos de IA podem analisar imagens médicas para identificar padrões que são invisíveis ao olho humano.\n> * **Finanças:** A IA está sendo usada para detectar fraudes, gerenciar riscos e fazer previsões de mercado. Por exemplo, os algoritmos de IA podem analisar grandes conjuntos de dados financeiros para identificar tendências e padrões.\n> * **Transporte:** A IA está sendo usada para desenvolver veículos autônomos, otimizar rotas de transporte e melhorar a segurança no trânsito.\n> * **Entretenimento:** A IA está sendo usada para criar jogos mais envolventes, gerar música e arte e personalizar recomendações de conteúdo.\n> \n> Essas são apenas algumas das áreas do conhecimento humano que estão mais avançadas na utilização das ferramentas de IA. À medida que a IA continua a evoluir, espera-se que ela tenha um impacto ainda maior em todas as áreas da vida humana."
          },
          "metadata": {}
        },
        {
          "output_type": "display_data",
          "data": {
            "text/plain": [
              "<IPython.core.display.Markdown object>"
            ],
            "text/markdown": "> **user**: Em termos de países, quais são os dez primeiros nessa corrida tecnológica?"
          },
          "metadata": {}
        },
        {
          "output_type": "display_data",
          "data": {
            "text/plain": [
              "<IPython.core.display.Markdown object>"
            ],
            "text/markdown": "> **model**: Os dez primeiros países na corrida tecnológica de Inteligência Artificial (IA), de acordo com o Índice de Desenvolvimento de IA 2023 da Universidade de Stanford, são:\n> \n> 1. Estados Unidos\n> 2. China\n> 3. Reino Unido\n> 4. Alemanha\n> 5. Canadá\n> 6. França\n> 7. Japão\n> 8. Índia\n> 9. Austrália\n> 10. Suíça\n> \n> Esses países estão na vanguarda do desenvolvimento e implementação de IA, investindo pesadamente em pesquisa, educação e infraestrutura de IA. Eles também têm um ecossistema forte de startups e empresas de IA, bem como políticas governamentais de apoio.\n> \n> Outros países que estão fazendo progressos significativos em IA incluem:\n> \n> * Coreia do Sul\n> * Países Baixos\n> * Suécia\n> * Israel\n> * Singapura\n> \n> Esses países estão investindo em IA e desenvolvendo seus próprios ecossistemas de IA, e espera-se que desempenhem um papel cada vez mais importante na corrida tecnológica de IA nos próximos anos."
          },
          "metadata": {}
        },
        {
          "output_type": "display_data",
          "data": {
            "text/plain": [
              "<IPython.core.display.Markdown object>"
            ],
            "text/markdown": "> **user**: Quais deveriam ser as cinco principais medidas governamentais para incrementar nosso desenvolvimento nessa área no decorrer dos próximos dez anos?"
          },
          "metadata": {}
        },
        {
          "output_type": "display_data",
          "data": {
            "text/plain": [
              "<IPython.core.display.Markdown object>"
            ],
            "text/markdown": "> **model**: **Cinco principais medidas governamentais para incrementar o desenvolvimento de Inteligência Artificial (IA) no Brasil nos próximos dez anos:**\n> \n> 1. **Aumentar o financiamento para pesquisa e desenvolvimento (P&D) em IA:** O governo deve aumentar significativamente o financiamento para pesquisa básica e aplicada em IA, por meio de agências de fomento como a FAPESP e o CNPq. Isso permitirá que pesquisadores brasileiros desenvolvam novas tecnologias de IA e soluções inovadoras.\n> \n> 2. **Investir em infraestrutura de IA:** O governo deve investir em infraestrutura de IA, como centros de dados, supercomputadores e redes de alta velocidade. Isso fornecerá aos pesquisadores e empresas os recursos computacionais necessários para desenvolver e implantar aplicativos de IA.\n> \n> 3. **Desenvolver e implementar uma estratégia nacional de IA:** O governo deve desenvolver e implementar uma estratégia nacional de IA que defina metas claras, prioridades de pesquisa e mecanismos de colaboração entre academia, indústria e governo. Isso ajudará a coordenar os esforços de IA no país e garantir que os recursos sejam alocados de forma eficaz.\n> \n> 4. **Promover a educação e formação em IA:** O governo deve investir em educação e formação em IA em todos os níveis, desde o ensino fundamental até a pós-graduação. Isso ajudará a criar uma força de trabalho qualificada em IA e garantir que o Brasil tenha o talento necessário para liderar a corrida tecnológica de IA.\n> \n> 5. **Estabelecer um quadro regulatório para IA:** O governo deve estabelecer um quadro regulatório claro e ético para IA, que aborde questões como privacidade de dados, segurança e responsabilidade. Isso ajudará a promover a confiança na IA e garantir que ela seja usada de forma responsável e benéfica para a sociedade.\n> \n> Além dessas medidas, o governo também deve:\n> \n> * Colaborar com empresas e indústrias para promover a adoção de IA em todos os setores da economia.\n> * Apoiar startups e pequenas empresas que estão desenvolvendo tecnologias e soluções de IA inovadoras.\n> * Promover a cooperação internacional em IA, por meio de parcerias com outros países e organizações internacionais.\n> \n> Ao implementar essas medidas, o governo brasileiro pode ajudar a impulsionar o desenvolvimento de IA no país e garantir que o Brasil se torne um player importante na corrida tecnológica de IA global."
          },
          "metadata": {}
        },
        {
          "output_type": "display_data",
          "data": {
            "text/plain": [
              "<IPython.core.display.Markdown object>"
            ],
            "text/markdown": "> **user**: Em termos de investimentos governamentais, qual o percentual do PIB investido pelos dez países melhor posicionados ao longo dos últimos cinco anos? "
          },
          "metadata": {}
        },
        {
          "output_type": "display_data",
          "data": {
            "text/plain": [
              "<IPython.core.display.Markdown object>"
            ],
            "text/markdown": "> **model**: **Percentual do PIB investido em pesquisa e desenvolvimento (P&D) pelos dez países melhor posicionados em IA nos últimos cinco anos:**\n> \n> | País | Percentual do PIB investido em P&D |\n> |---|---|\n> | Israel | 5,41% |\n> | Coreia do Sul | 4,83% |\n> | Japão | 3,29% |\n> | Estados Unidos | 3,09% |\n> | Alemanha | 3,06% |\n> | Suíça | 3,03% |\n> | Áustria | 3,01% |\n> | Dinamarca | 2,97% |\n> | Suécia | 2,96% |\n> | Finlândia | 2,93% |\n> \n> Fonte: Banco Mundial, dados de 2019 a 2023\n> \n> É importante notar que esses dados são para P&D em geral, e não especificamente para IA. No entanto, a IA é um campo de pesquisa prioritário para todos esses países, e eles têm investido pesadamente em seu desenvolvimento.\n> \n> Por exemplo, os Estados Unidos lançaram a Iniciativa Nacional de Inteligência Artificial em 2019, que visa investir US$ 1 bilhão em pesquisa de IA nos próximos cinco anos. A China também anunciou planos para investir US$ 150 bilhões em IA até 2030.\n> \n> Esses investimentos significativos em P&D estão ajudando esses países a manter sua liderança na corrida tecnológica de IA."
          },
          "metadata": {}
        },
        {
          "output_type": "display_data",
          "data": {
            "text/plain": [
              "<IPython.core.display.Markdown object>"
            ],
            "text/markdown": "> **user**: Qual é a perspectiva brasileira nesse segmento considerando nossa política atual de investimentos?"
          },
          "metadata": {}
        },
        {
          "output_type": "display_data",
          "data": {
            "text/plain": [
              "<IPython.core.display.Markdown object>"
            ],
            "text/markdown": "> **model**: A perspectiva brasileira no segmento de Inteligência Artificial (IA) é **mista**, considerando a política atual de investimentos.\n> \n> **Pontos positivos:**\n> \n> * O Brasil tem uma comunidade acadêmica forte em IA, com pesquisadores de renome internacional em universidades como USP, Unicamp e UFMG.\n> * O governo brasileiro lançou recentemente a Estratégia Nacional de Inteligência Artificial, que visa impulsionar o desenvolvimento e a adoção de IA no país.\n> * Há um crescente número de startups e empresas brasileiras investindo em IA.\n> \n> **Pontos negativos:**\n> \n> * O Brasil investe muito pouco em P&D em comparação com outros países. Em 2023, o Brasil investiu apenas 1,36% do PIB em P&D, bem abaixo da média da OCDE de 2,5%.\n> * O financiamento governamental para pesquisa em IA é limitado e instável.\n> * A infraestrutura de IA do Brasil é deficiente, com falta de centros de dados e supercomputadores de última geração.\n> * O Brasil enfrenta uma escassez de profissionais qualificados em IA.\n> \n> A política atual de investimentos do governo brasileiro não é suficiente para impulsionar o desenvolvimento de IA no país. O governo precisa aumentar significativamente o financiamento para P&D em IA, investir em infraestrutura de IA e promover a educação e formação em IA.\n> \n> Caso contrário, o Brasil corre o risco de ficar para trás na corrida tecnológica de IA global.\n> \n> **Perspectivas:**\n> \n> Se o governo brasileiro implementar as medidas necessárias para impulsionar o desenvolvimento de IA, o país tem o potencial de se tornar um player importante no cenário global de IA. O Brasil tem uma base sólida de pesquisa em IA, um ecossistema empresarial crescente e uma demanda crescente por soluções de IA em todos os setores da economia.\n> \n> No entanto, é importante que o governo aja com urgência para abordar os desafios enfrentados pelo Brasil no segmento de IA. Caso contrário, o país corre o risco de perder a corrida tecnológica de IA e ficar para trás em relação a outros países."
          },
          "metadata": {}
        }
      ]
    }
  ]
}